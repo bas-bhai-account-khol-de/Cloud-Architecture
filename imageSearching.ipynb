{
 "cells": [
  {
   "cell_type": "markdown",
   "source": [
    "### Import all necesary libraries"
   ],
   "metadata": {}
  },
  {
   "cell_type": "code",
   "execution_count": 1,
   "source": [
    "import numpy as np\n",
    "import cv2\n",
    "from matplotlib import pyplot as plt\n",
    "import os\n"
   ],
   "outputs": [],
   "metadata": {}
  },
  {
   "cell_type": "markdown",
   "source": [
    "### Import Set Of Images"
   ],
   "metadata": {}
  },
  {
   "cell_type": "code",
   "execution_count": 2,
   "source": [
    "def load_images_from_folder(folder):\n",
    "    images = []\n",
    "    for filename in os.listdir(folder):\n",
    "        img = cv2.imread(os.path.join(folder,filename))\n",
    "        if img is not None:\n",
    "            images.append(img)\n",
    "    return images"
   ],
   "outputs": [],
   "metadata": {}
  },
  {
   "cell_type": "markdown",
   "source": [
    "## Import all necessary resources"
   ],
   "metadata": {}
  },
  {
   "cell_type": "code",
   "execution_count": 3,
   "source": [
    "\n",
    "img2 = cv2.imread('/media/prakhar/Linux FIles/Flam Apps/Testing and experiment/cloud_archi/Cloud-Architecture/flam_cards/0.jpg') # trainImage\n",
    "database_images = load_images_from_folder(\"/media/prakhar/Linux FIles/Flam Apps/Testing and experiment/cloud_archi/Cloud-Architecture/resources/school_bag\")\n",
    "# database_images = load_images_from_folder(\"/media/prakhar/Linux FIles/Flam Apps/Testing and experiment/cloud_archi/Cloud-Architecture/resources/flam_cards\")\n",
    "\n",
    "\n",
    "# img1_SIFT = cv2.cvtColor(img1, cv2.COLOR_BGR2GRAY)\n",
    "# img2_SIFT =cv2.cvtColor(img2, cv2.COLOR_BGR2GRAY)\n",
    "\n",
    "\n",
    "\n",
    "\n"
   ],
   "outputs": [],
   "metadata": {}
  },
  {
   "cell_type": "markdown",
   "source": [
    "### Break Images into Batches"
   ],
   "metadata": {}
  },
  {
   "cell_type": "markdown",
   "source": [
    "####  Select Algoritm and matcher"
   ],
   "metadata": {}
  },
  {
   "cell_type": "code",
   "execution_count": 4,
   "source": [
    "print(len(database_images))\n",
    "\n",
    "Batch_size = 20\n",
    "\n",
    "batches = []\n",
    "\n",
    "number_images = len(database_images)\n",
    "number_batches = int(number_images/Batch_size)\n",
    "if number_images%Batch_size != 0:\n",
    "    number_batches +=1\n",
    "\n",
    "i =0\n",
    "for i in range(number_batches):\n",
    "    image_temp =[]\n",
    "    image_temp = database_images[i*Batch_size: (i+1)*Batch_size]\n",
    "    batches.append(image_temp)\n",
    "   \n",
    "print(number_batches)\n"
   ],
   "outputs": [
    {
     "output_type": "stream",
     "name": "stdout",
     "text": [
      "100\n",
      "5\n"
     ]
    }
   ],
   "metadata": {}
  },
  {
   "cell_type": "code",
   "execution_count": 5,
   "source": [
    "matching_methods = [\"BF_matcher\",\"FLANN_matcher\"]"
   ],
   "outputs": [],
   "metadata": {}
  },
  {
   "cell_type": "code",
   "execution_count": 6,
   "source": [
    "feature_extractions = [\"ORB\", \"SIFT\",\"BRISK\"]\n"
   ],
   "outputs": [],
   "metadata": {}
  },
  {
   "cell_type": "code",
   "execution_count": 9,
   "source": [
    "matcher_selection = int(input())"
   ],
   "outputs": [],
   "metadata": {}
  },
  {
   "cell_type": "code",
   "execution_count": 10,
   "source": [
    "feature_selection = int(input())"
   ],
   "outputs": [],
   "metadata": {}
  },
  {
   "cell_type": "code",
   "execution_count": 11,
   "source": [
    "print(matching_methods[matcher_selection])\n",
    "print(feature_extractions[feature_selection])"
   ],
   "outputs": [
    {
     "output_type": "stream",
     "name": "stdout",
     "text": [
      "FLANN_matcher\n",
      "ORB\n"
     ]
    }
   ],
   "metadata": {
    "scrolled": false
   }
  },
  {
   "cell_type": "markdown",
   "source": [
    "### Initialize the keyoint extractor"
   ],
   "metadata": {}
  },
  {
   "cell_type": "code",
   "execution_count": 12,
   "source": [
    "extractor = None\n",
    "if feature_selection == 0:\n",
    "    extractor = cv2.ORB_create(nfeatures =700)\n",
    "elif feature_selection ==1:\n",
    "    extractor = cv2.SIFT_create()\n",
    "elif feature_selection ==2:\n",
    "    extractor = cv2.BRISK_create()\n"
   ],
   "outputs": [],
   "metadata": {}
  },
  {
   "cell_type": "markdown",
   "source": [
    "### Initilizing the matcher "
   ],
   "metadata": {}
  },
  {
   "cell_type": "code",
   "execution_count": 13,
   "source": [
    "\n",
    "matcher =None\n",
    "\n",
    "if matcher_selection == 0 :\n",
    "    matcher = cv2.BFMatcher()\n",
    "elif matcher_selection == 1 and feature_selection == 1:\n",
    "    matcher = cv2.DescriptorMatcher_create(cv2.DescriptorMatcher_FLANNBASED)\n",
    "elif matcher_selection ==1  and (feature_selection==0 or feature_selection ==2):\n",
    "    flann_params= dict(algorithm = 6,\n",
    "                               table_number = 6, # 12\n",
    "                               key_size = 12,     # 20\n",
    "                               multi_probe_level = 1) #2\n",
    "    matcher = cv2.FlannBasedMatcher(flann_params, {})\n",
    "    \n"
   ],
   "outputs": [],
   "metadata": {}
  },
  {
   "cell_type": "markdown",
   "source": [
    "## Matching  images"
   ],
   "metadata": {}
  },
  {
   "cell_type": "markdown",
   "source": [
    "### Computing keypoints of database"
   ],
   "metadata": {}
  },
  {
   "cell_type": "markdown",
   "source": [
    "### computing keypoints for all images in data base"
   ],
   "metadata": {}
  },
  {
   "cell_type": "code",
   "execution_count": 14,
   "source": [
    "kps_database =[]\n",
    "des_database = []\n",
    "kps_temp= None\n",
    "des_temp =None\n",
    "i=0\n",
    "for img_batch in batches:\n",
    "    kps_batch=[]\n",
    "    des_batch =[]\n",
    "    for img in img_batch:\n",
    "        kps_temp , des_temp = extractor.detectAndCompute(img,None)\n",
    "        kps_batch.append(kps_temp)\n",
    "        des_batch.append((des_temp))\n",
    "    kps_database.append(kps_batch)\n",
    "    des_database.append(des_batch)\n",
    "print(len(des_database))"
   ],
   "outputs": [
    {
     "output_type": "stream",
     "name": "stdout",
     "text": [
      "5\n"
     ]
    }
   ],
   "metadata": {}
  },
  {
   "cell_type": "markdown",
   "source": [
    "### Computing keypoints in Query image"
   ],
   "metadata": {}
  },
  {
   "cell_type": "code",
   "execution_count": 15,
   "source": [
    "threshold = 20\n",
    "i=0"
   ],
   "outputs": [],
   "metadata": {}
  },
  {
   "cell_type": "code",
   "execution_count": 20,
   "source": [
    "vid = cv2.VideoCapture(0)\n",
    "current_batch_number =0\n",
    "while True:\n",
    "    success,frame = vid.read()\n",
    "    cv2.imshow(\"recog \" , frame)\n",
    "    kp1=None\n",
    "    des1=None\n",
    "    kp1, des1 = extractor.detectAndCompute(frame,None)\n",
    "    # print(len(kp1))\n",
    "    matches_temp =None\n",
    "    breakLoop =False\n",
    "    i=0\n",
    "    for descriptors in des_database[current_batch_number]:\n",
    "        matches_temp = matcher.knnMatch(des1,descriptors, k=2)\n",
    "        good = []\n",
    "        for m_n in matches_temp:\n",
    "            if len(m_n)!=2:\n",
    "                continue\n",
    "            (m,n) = m_n\n",
    "            if m.distance < 0.6* n.distance:\n",
    "                good.append(m)\n",
    "#         print(len(good))\n",
    "        if len(good) > threshold:\n",
    "            breakLoop=True\n",
    "            break\n",
    "        i=i+1\n",
    "    if breakLoop:\n",
    "        cv2.destroyAllWindows()\n",
    "        vid.release()\n",
    "        break\n",
    "   \n",
    "    \n",
    "    current_batch_number+=1\n",
    "    if current_batch_number > (number_batches-1):\n",
    "        current_batch_number=0\n",
    "    k = cv2.waitKey(1)\n",
    "    if k == 27:\n",
    "        cv2.destroyAllWindows()\n",
    "        vid.release()\n",
    "        break\n",
    "        \n",
    "print(i)\n",
    "print(current_batch_number)\n",
    "img_test =batches[current_batch_number][i]\n",
    "img_test = cv2.cvtColor(img_test,cv2.COLOR_BGR2RGB)\n",
    "plt.imshow(img_test)\n",
    "plt.imshow(batches[current_batch_number][i])"
   ],
   "outputs": [
    {
     "output_type": "stream",
     "name": "stdout",
     "text": [
      "14\n",
      "2\n"
     ]
    },
    {
     "output_type": "execute_result",
     "data": {
      "text/plain": [
       "<matplotlib.image.AxesImage at 0x7f437ed81b50>"
      ]
     },
     "metadata": {},
     "execution_count": 20
    },
    {
     "output_type": "display_data",
     "data": {
      "image/png": "[encoded data removed]",
      "text/plain": [
       "<Figure size 432x288 with 1 Axes>"
      ]
     },
     "metadata": {
      "needs_background": "light"
     }
    }
   ],
   "metadata": {}
  },
  {
   "cell_type": "markdown",
   "source": [
    "### Show Query Image"
   ],
   "metadata": {}
  },
  {
   "cell_type": "code",
   "execution_count": null,
   "source": [
    "print(i)\n",
    "print(current_batch_number)"
   ],
   "outputs": [],
   "metadata": {}
  },
  {
   "cell_type": "code",
   "execution_count": null,
   "source": [
    "plt.imshow(batches[current_batch_number][i])"
   ],
   "outputs": [],
   "metadata": {}
  },
  {
   "cell_type": "markdown",
   "source": [
    "### Matching Start"
   ],
   "metadata": {}
  },
  {
   "cell_type": "code",
   "execution_count": null,
   "source": [
    "matches = []\n",
    "matches_temp =None\n",
    "\n",
    "for descriptors in des_database:\n",
    "    matches_temp = matcher.knnMatch(des1,descriptors, k=2)\n",
    "    matches.append(matches_temp)\n",
    "\n"
   ],
   "outputs": [],
   "metadata": {}
  },
  {
   "cell_type": "code",
   "execution_count": null,
   "source": [
    "goods =[]\n",
    "\n",
    "for mat in matches:\n",
    "    good = []\n",
    "    for m_n in mat:\n",
    "        if len(m_n)!=2:\n",
    "            continue\n",
    "        (m,n) = m_n\n",
    "        if m.distance < 0.6* n.distance:\n",
    "            good.append(m)\n",
    "    goods.append(len(good))\n",
    "\n",
    "print(len(goods))\n",
    "print(goods)"
   ],
   "outputs": [],
   "metadata": {}
  },
  {
   "cell_type": "code",
   "execution_count": null,
   "source": [
    "max_value = max(goods)\n",
    "\n",
    "max_index= goods.index(max_value)\n",
    "\n",
    "print(max_value)\n",
    "print(max_index)"
   ],
   "outputs": [],
   "metadata": {}
  },
  {
   "cell_type": "code",
   "execution_count": null,
   "source": [
    "plt.imshow(database_images[max_index])"
   ],
   "outputs": [],
   "metadata": {}
  },
  {
   "cell_type": "markdown",
   "source": [
    "### Draw Matches"
   ],
   "metadata": {}
  }
 ],
 "metadata": {
  "interpreter": {
   "hash": "fc66090d776bf8e99fd7cf1f76f9f2fd5b67f0ccbd37f686387ebd9834b9740d"
  },
  "kernelspec": {
   "name": "python3",
   "display_name": "Python 3.9.7 64-bit ('cloud_archi': conda)"
  },
  "language_info": {
   "codemirror_mode": {
    "name": "ipython",
    "version": 3
   },
   "file_extension": ".py",
   "mimetype": "text/x-python",
   "name": "python",
   "nbconvert_exporter": "python",
   "pygments_lexer": "ipython3",
   "version": "3.9.7"
  }
 },
 "nbformat": 4,
 "nbformat_minor": 5
}