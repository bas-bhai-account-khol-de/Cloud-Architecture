{
 "cells": [
  {
   "cell_type": "markdown",
   "id": "b53e6c15",
   "metadata": {},
   "source": [
    "### Import all necesary libraries"
   ]
  },
  {
   "cell_type": "code",
   "execution_count": 1,
   "id": "0b744fd5",
   "metadata": {},
   "outputs": [],
   "source": [
    "import numpy as np\n",
    "import cv2\n",
    "from matplotlib import pyplot as plt"
   ]
  },
  {
   "cell_type": "markdown",
   "id": "792c827b",
   "metadata": {},
   "source": [
    "## Import all necessary resources"
   ]
  },
  {
   "cell_type": "code",
   "execution_count": 2,
   "id": "9edd28ad",
   "metadata": {},
   "outputs": [],
   "source": [
    "img1 = cv2.imread('/home/yogesh/Desktop/CS/cloudArchitecture/resources/flam_cards/0.jpg',0) # queryImage\n",
    "img2 = cv2.imread('/home/yogesh/Desktop/CS/cloudArchitecture/resources/flam_cards/0.jpg',0) # trainImage\n",
    "\n",
    "# img1_SIFT = cv2.cvtColor(img1, cv2.COLOR_BGR2GRAY)\n",
    "# img2_SIFT =cv2.cvtColor(img2, cv2.COLOR_BGR2GRAY)\n",
    "\n",
    "\n",
    "img1_SIFT = img1\n",
    "img2_SIFT = img2\n"
   ]
  },
  {
   "cell_type": "markdown",
   "id": "e02ec682",
   "metadata": {},
   "source": [
    "### Show Vaid Image"
   ]
  },
  {
   "cell_type": "markdown",
   "id": "efa01c7b",
   "metadata": {},
   "source": [
    "### Initilize the keyoint extractor"
   ]
  },
  {
   "cell_type": "code",
   "execution_count": 7,
   "id": "3e2723a5",
   "metadata": {},
   "outputs": [],
   "source": [
    "orb = cv2.ORB_create()\n",
    "sift = cv2.SIFT_create()"
   ]
  },
  {
   "cell_type": "markdown",
   "id": "fa9363bd",
   "metadata": {},
   "source": [
    "### Computing keypoints "
   ]
  },
  {
   "cell_type": "code",
   "execution_count": 10,
   "id": "56ad2e5b",
   "metadata": {},
   "outputs": [],
   "source": [
    "kp1_orb, des1_orb = orb.detectAndCompute(img1,None)\n",
    "kp2_orb, des2_orb = orb.detectAndCompute(img2,None)"
   ]
  },
  {
   "cell_type": "code",
   "execution_count": 11,
   "id": "6edfae91",
   "metadata": {},
   "outputs": [],
   "source": [
    "kp1_SIFT, des1_SIFT = sift.detectAndCompute(img1_SIFT,None)\n",
    "kp2_SIFT, des2_SIFT = sift.detectAndCompute(img2_SIFT,None)"
   ]
  },
  {
   "cell_type": "markdown",
   "id": "b016d4d7",
   "metadata": {},
   "source": [
    "### Initilizing the matcher (Brute Force Mtcher)"
   ]
  },
  {
   "cell_type": "code",
   "execution_count": 12,
   "id": "504ba3b1",
   "metadata": {},
   "outputs": [],
   "source": [
    "bf = cv2.BFMatcher()\n",
    "FLANN_matcher = cv2.DescriptorMatcher_create(cv2.DescriptorMatcher_FLANNBASED)"
   ]
  },
  {
   "cell_type": "markdown",
   "id": "5993a111",
   "metadata": {},
   "source": [
    "### Matching  images"
   ]
  }
 ],
 "metadata": {
  "kernelspec": {
   "display_name": "Python 3 (ipykernel)",
   "language": "python",
   "name": "python3"
  },
  "language_info": {
   "codemirror_mode": {
    "name": "ipython",
    "version": 3
   },
   "file_extension": ".py",
   "mimetype": "text/x-python",
   "name": "python",
   "nbconvert_exporter": "python",
   "pygments_lexer": "ipython3",
   "version": "3.9.7"
  }
 },
 "nbformat": 4,
 "nbformat_minor": 5
}
