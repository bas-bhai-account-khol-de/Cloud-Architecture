{
 "cells": [
  {
   "cell_type": "markdown",
   "id": "384978af",
   "metadata": {},
   "source": [
    "### Import all necesary libraries"
   ]
  },
  {
   "cell_type": "code",
   "execution_count": 1,
   "id": "be80367e",
   "metadata": {},
   "outputs": [],
   "source": [
    "import numpy as np\n",
    "import cv2\n",
    "from matplotlib import pyplot as plt"
   ]
  },
  {
   "cell_type": "markdown",
   "id": "91830627",
   "metadata": {},
   "source": [
    "## Import all necessary resources"
   ]
  },
  {
   "cell_type": "code",
   "execution_count": 2,
   "id": "06b8dafa",
   "metadata": {},
   "outputs": [],
   "source": [
    "img1 = cv2.imread('box.png',0)          # queryImage\n",
    "img2 = cv2.imread('box_in_scene.png',0) # trainImage\n"
   ]
  },
  {
   "cell_type": "markdown",
   "id": "e3b58a9a",
   "metadata": {},
   "source": [
    "### Init"
   ]
  }
 ],
 "metadata": {
  "kernelspec": {
   "display_name": "Python 3 (ipykernel)",
   "language": "python",
   "name": "python3"
  },
  "language_info": {
   "codemirror_mode": {
    "name": "ipython",
    "version": 3
   },
   "file_extension": ".py",
   "mimetype": "text/x-python",
   "name": "python",
   "nbconvert_exporter": "python",
   "pygments_lexer": "ipython3",
   "version": "3.9.7"
  }
 },
 "nbformat": 4,
 "nbformat_minor": 5
}
