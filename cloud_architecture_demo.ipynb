{
 "cells": [
  {
   "cell_type": "markdown",
   "id": "db377588",
   "metadata": {},
   "source": [
    "### Import all necesary libraries"
   ]
  },
  {
   "cell_type": "code",
   "execution_count": 1,
   "id": "60ff8b2e",
   "metadata": {},
   "outputs": [],
   "source": [
    "import numpy as np\n",
    "import cv2\n",
    "from matplotlib import pyplot as plt"
   ]
  },
  {
   "cell_type": "markdown",
   "id": "820c092a",
   "metadata": {},
   "source": [
    "## Import all necessary resources"
   ]
  },
  {
   "cell_type": "code",
   "execution_count": 2,
   "id": "70a358e1",
   "metadata": {},
   "outputs": [],
   "source": [
    "img1 = cv2.imread('/home/yogesh/Desktop/CS/cloudArchitecture/resources/flam_cards/0.jpg',0) # queryImage\n",
    "img2 = cv2.imread('/home/yogesh/Desktop/CS/cloudArchitecture/resources/flam_cards/0.jpg',0) # trainImage\n",
    "\n",
    "# img1_SIFT = cv2.cvtColor(img1, cv2.COLOR_BGR2GRAY)\n",
    "# img2_SIFT =cv2.cvtColor(img2, cv2.COLOR_BGR2GRAY)\n",
    "\n",
    "\n",
    "img1_SIFT = img1\n",
    "img2_SIFT = img2\n"
   ]
  },
  {
   "cell_type": "markdown",
   "id": "14229c28",
   "metadata": {},
   "source": [
    "### Show Vaid Image"
   ]
  },
  {
   "cell_type": "markdown",
   "id": "ec1a3efd",
   "metadata": {},
   "source": [
    "### Initilize the keyoint extractor"
   ]
  },
  {
   "cell_type": "code",
   "execution_count": 7,
   "id": "42d747fa",
   "metadata": {},
   "outputs": [],
   "source": [
    "orb = cv2.ORB_create()\n",
    "sift = cv2.SIFT_create()"
   ]
  },
  {
   "cell_type": "markdown",
   "id": "47399baf",
   "metadata": {},
   "source": [
    "### Computing keypoints "
   ]
  },
  {
   "cell_type": "code",
   "execution_count": 10,
   "id": "da0804c3",
   "metadata": {},
   "outputs": [],
   "source": [
    "kp1_orb, des1_orb = orb.detectAndCompute(img1,None)\n",
    "kp2_orb, des2_orb = orb.detectAndCompute(img2,None)"
   ]
  },
  {
   "cell_type": "code",
   "execution_count": 11,
   "id": "3fc9f87f",
   "metadata": {},
   "outputs": [],
   "source": [
    "kp1_SIFT, des1_SIFT = sift.detectAndCompute(img1_SIFT,None)\n",
    "kp2_SIFT, des2_SIFT = sift.detectAndCompute(img2_SIFT,None)"
   ]
  },
  {
   "cell_type": "markdown",
   "id": "b2a37462",
   "metadata": {},
   "source": [
    "### Initilizing the matcher (Brute Force Mtcher)"
   ]
  },
  {
   "cell_type": "code",
   "execution_count": 12,
   "id": "8186bac3",
   "metadata": {},
   "outputs": [],
   "source": [
    "bf = cv2.BFMatcher()\n",
    "FLANN_matcher = cv2.DescriptorMatcher_create(cv2.DescriptorMatcher_FLANNBASED)"
   ]
  },
  {
   "cell_type": "markdown",
   "id": "6cedbd72",
   "metadata": {},
   "source": [
    "## Matching  images"
   ]
  },
  {
   "cell_type": "markdown",
   "id": "8a3b1da2",
   "metadata": {},
   "source": [
    "####  Select Algoritm and matcher"
   ]
  },
  {
   "cell_type": "code",
   "execution_count": 16,
   "id": "cada4f6b",
   "metadata": {},
   "outputs": [],
   "source": [
    "matching_methods = [\"BF_matcher\",\"FLANN_matcher\"]"
   ]
  },
  {
   "cell_type": "code",
   "execution_count": 19,
   "id": "b702e041",
   "metadata": {},
   "outputs": [],
   "source": [
    "feature_extractions = [\"ORB\", \"SIFT\"]\n",
    "feature_detection = [[des1_orb,des2_orb],[des1_SIFT,des2_SIFT]]"
   ]
  },
  {
   "cell_type": "code",
   "execution_count": 26,
   "id": "7993a3ae",
   "metadata": {},
   "outputs": [
    {
     "name": "stdout",
     "output_type": "stream",
     "text": [
      "0\n"
     ]
    }
   ],
   "source": [
    "matcher_selection = int(input())"
   ]
  },
  {
   "cell_type": "code",
   "execution_count": 30,
   "id": "8bd1f04a",
   "metadata": {},
   "outputs": [
    {
     "name": "stdout",
     "output_type": "stream",
     "text": [
      "0\n"
     ]
    }
   ],
   "source": [
    "feature_selection = int(input())"
   ]
  },
  {
   "cell_type": "code",
   "execution_count": 32,
   "id": "ee721475",
   "metadata": {},
   "outputs": [
    {
     "name": "stdout",
     "output_type": "stream",
     "text": [
      "BF_matcher\n",
      "ORB\n"
     ]
    }
   ],
   "source": [
    "print(matching_methods[matcher_selection])\n",
    "print(feature_extractions[feature_selection])"
   ]
  },
  {
   "cell_type": "markdown",
   "id": "6ba53f2f",
   "metadata": {},
   "source": [
    "### Matching Start"
   ]
  },
  {
   "cell_type": "code",
   "execution_count": null,
   "id": "7be6ad6d",
   "metadata": {},
   "outputs": [],
   "source": []
  }
 ],
 "metadata": {
  "kernelspec": {
   "display_name": "Python 3 (ipykernel)",
   "language": "python",
   "name": "python3"
  },
  "language_info": {
   "codemirror_mode": {
    "name": "ipython",
    "version": 3
   },
   "file_extension": ".py",
   "mimetype": "text/x-python",
   "name": "python",
   "nbconvert_exporter": "python",
   "pygments_lexer": "ipython3",
   "version": "3.9.7"
  }
 },
 "nbformat": 4,
 "nbformat_minor": 5
}
